{
 "cells": [
  {
   "cell_type": "code",
   "execution_count": 1,
   "id": "7d54b029",
   "metadata": {
    "scrolled": true
   },
   "outputs": [
    {
     "name": "stdout",
     "output_type": "stream",
     "text": [
      "hi\n"
     ]
    }
   ],
   "source": [
    "print(\"hi\")"
   ]
  },
  {
   "cell_type": "code",
   "execution_count": null,
   "id": "9ef30d6f",
   "metadata": {},
   "outputs": [],
   "source": []
  },
  {
   "cell_type": "code",
   "execution_count": null,
   "id": "de0fe1c4",
   "metadata": {},
   "outputs": [],
   "source": []
  },
  {
   "cell_type": "code",
   "execution_count": 2,
   "id": "3bc585b0",
   "metadata": {},
   "outputs": [
    {
     "name": "stdout",
     "output_type": "stream",
     "text": [
      "Hi Tom\n"
     ]
    }
   ],
   "source": [
    "name = \"Tom\"\n",
    "print(\"Hi\",name)"
   ]
  },
  {
   "cell_type": "code",
   "execution_count": 3,
   "id": "b034be5a",
   "metadata": {},
   "outputs": [
    {
     "name": "stdout",
     "output_type": "stream",
     "text": [
      "Hi Tom\n",
      "Hi Emma\n",
      "Hi James\n"
     ]
    }
   ],
   "source": [
    "names = [\"Tom\",\"Emma\",\"James\"]\n",
    "for name in names:\n",
    "    print(\"Hi\",name)"
   ]
  },
  {
   "cell_type": "code",
   "execution_count": null,
   "id": "fb5d7d9b",
   "metadata": {},
   "outputs": [],
   "source": []
  }
 ],
 "metadata": {
  "kernelspec": {
   "display_name": "Python 3.10.7 64-bit (microsoft store)",
   "language": "python",
   "name": "python3"
  },
  "language_info": {
   "codemirror_mode": {
    "name": "ipython",
    "version": 3
   },
   "file_extension": ".py",
   "mimetype": "text/x-python",
   "name": "python",
   "nbconvert_exporter": "python",
   "pygments_lexer": "ipython3",
   "version": "3.10.7"
  },
  "vscode": {
   "interpreter": {
    "hash": "32bcb852cba4962000fffa2782f733ff943ee72b596ba59c585ffc3382b4703d"
   }
  }
 },
 "nbformat": 4,
 "nbformat_minor": 5
}
